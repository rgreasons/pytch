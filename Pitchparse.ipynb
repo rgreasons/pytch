{
 "cells": [
  {
   "cell_type": "markdown",
   "metadata": {},
   "source": [
    "Import Packages & Libraries"
   ]
  },
  {
   "cell_type": "code",
   "execution_count": 4,
   "metadata": {
    "collapsed": false
   },
   "outputs": [],
   "source": [
    "from bs4 import BeautifulSoup\n",
    "import pandas as pd\n",
    "import requests\n",
    "from datetime import datetime"
   ]
  },
  {
   "cell_type": "markdown",
   "metadata": {},
   "source": [
    "Set URL of album to parse and User Agent info of browser to spoof"
   ]
  },
  {
   "cell_type": "code",
   "execution_count": 5,
   "metadata": {
    "collapsed": false
   },
   "outputs": [],
   "source": [
    "#url = 'http://pitchfork.com/reviews/albums/21864-strangers/'\n",
    "#url = 'http://pitchfork.com/reviews/albums/'\n",
    "#url = 'http://pitchfork.com/reviews/albums/21673-teens-of-denial/'\n",
    "#url = 'http://pitchfork.com/reviews/albums/21654-it-came-from-nyc/'\n",
    "#url = 'http://pitchfork.com/reviews/albums/21980-fantasma/'\n",
    "#url = 'http://pitchfork.com/reviews/albums/15996-lou-reed-metallica/'\n",
    "url = 'http://pitchfork.com/reviews/albums/21997-blonde-on-blonde-revisited/'\n",
    "ua ={'User-Agent': 'Mozilla/5.0 (Windows NT 6.1; WOW64; rv:20.0) Gecko/20100101 Firefox/20.0'}"
   ]
  },
  {
   "cell_type": "markdown",
   "metadata": {},
   "source": [
    "Get web page & print reponse code - 200 means the page was retrieved successfully"
   ]
  },
  {
   "cell_type": "code",
   "execution_count": 6,
   "metadata": {
    "collapsed": false
   },
   "outputs": [
    {
     "name": "stdout",
     "output_type": "stream",
     "text": [
      "<class 'int'>\n"
     ]
    }
   ],
   "source": [
    "r = requests.get(url, headers=ua)\n",
    "retrievalTime = datetime.now()\n",
    "print(type(r.status_code))"
   ]
  },
  {
   "cell_type": "markdown",
   "metadata": {},
   "source": [
    "Create BeautifulSoup object for the particular review"
   ]
  },
  {
   "cell_type": "code",
   "execution_count": 7,
   "metadata": {
    "collapsed": false,
    "scrolled": true
   },
   "outputs": [
    {
     "name": "stdout",
     "output_type": "stream",
     "text": [
      "<h1 class=\"review-title\" data-reactid=\".2bhgugx4dts.1.6:0.1.0.$21997/=1$21997.0.1.0.0.1\">Blonde on Blonde Revisited</h1>\n"
     ]
    }
   ],
   "source": [
    "reviewSoup = BeautifulSoup(r.text, \"html.parser\")\n",
    "#print(reviewSoup.prettify())\n",
    "tombs = reviewSoup.findAll(class_='tombstone')\n",
    "reviewTitle = tombs[0].find(class_='review-title')\n",
    "print(reviewTitle)"
   ]
  },
  {
   "cell_type": "markdown",
   "metadata": {},
   "source": [
    "Get BeautifulSoup Elements of Review Components"
   ]
  },
  {
   "cell_type": "code",
   "execution_count": 8,
   "metadata": {
    "collapsed": false
   },
   "outputs": [],
   "source": [
    "reviewIDElement = reviewSoup.find(attrs={\"rel\": \"canonical\"})\n",
    "artistElement = reviewSoup.find(class_='artists')\n",
    "albumsElement = reviewSoup.find(class_='review-title')\n",
    "albumArtElement = reviewSoup.find(class_='album-art')\n",
    "labelsElement = reviewSoup.find(class_='labels-and-years')\n",
    "yearElement = reviewSoup.find(class_='year')\n",
    "bnmElement = reviewSoup.find(class_='bnm-txt')\n",
    "scoreElement = reviewSoup.find(class_='score')\n",
    "writerElement = reviewSoup.find(class_='display-name')\n",
    "genreElement = reviewSoup.find(class_='genre-list')\n",
    "publishDateElement = reviewSoup.find(class_='pub-date')\n",
    "reviewContent = reviewSoup.find(class_='contents dropcap')"
   ]
  },
  {
   "cell_type": "markdown",
   "metadata": {},
   "source": [
    "Review ID & Link"
   ]
  },
  {
   "cell_type": "code",
   "execution_count": 9,
   "metadata": {
    "collapsed": false,
    "scrolled": true
   },
   "outputs": [
    {
     "name": "stdout",
     "output_type": "stream",
     "text": [
      "http://pitchfork.com/reviews/albums/21997-blonde-on-blonde-revisited/\n",
      "21997\n"
     ]
    }
   ],
   "source": [
    "reviewLink = reviewIDElement['href']\n",
    "print(reviewLink)\n",
    "reviewID = int(reviewLink[36:reviewLink.find('-')])\n",
    "print(reviewID)"
   ]
  },
  {
   "cell_type": "markdown",
   "metadata": {},
   "source": [
    "Artist Name & ID"
   ]
  },
  {
   "cell_type": "code",
   "execution_count": 10,
   "metadata": {
    "collapsed": false
   },
   "outputs": [
    {
     "name": "stdout",
     "output_type": "stream",
     "text": [
      "Various Artists\n",
      "0\n"
     ]
    }
   ],
   "source": [
    "try:\n",
    "    artist = artistElement.find(\"li\")\n",
    "    #print(artist)\n",
    "    artistHref = artist.find(\"a\")['href']\n",
    "    artistName = artist.text\n",
    "    artistID = int(artistHref[9:artistHref.find('-')])\n",
    "except:\n",
    "    artistName = artistElement.text\n",
    "    artistID = 0\n",
    "    \n",
    "print(artistName)\n",
    "print(artistID)"
   ]
  },
  {
   "cell_type": "markdown",
   "metadata": {},
   "source": [
    "Album Name"
   ]
  },
  {
   "cell_type": "code",
   "execution_count": 11,
   "metadata": {
    "collapsed": false
   },
   "outputs": [
    {
     "name": "stdout",
     "output_type": "stream",
     "text": [
      "Blonde on Blonde Revisited\n"
     ]
    }
   ],
   "source": [
    "albumName = str(albumsElement.contents[0])\n",
    "print(albumName)"
   ]
  },
  {
   "cell_type": "markdown",
   "metadata": {},
   "source": [
    "Album Art Link"
   ]
  },
  {
   "cell_type": "code",
   "execution_count": 12,
   "metadata": {
    "collapsed": false
   },
   "outputs": [
    {
     "name": "stdout",
     "output_type": "stream",
     "text": [
      "http://cdn4.pitchfork.com/albums/23342/homepage_large.bb2fb299.jpg\n"
     ]
    }
   ],
   "source": [
    "albumArtLink = albumArtElement.contents[0]['src']\n",
    "print(albumArtLink)"
   ]
  },
  {
   "cell_type": "markdown",
   "metadata": {},
   "source": [
    "Record Labels"
   ]
  },
  {
   "cell_type": "code",
   "execution_count": 13,
   "metadata": {
    "collapsed": false
   },
   "outputs": [
    {
     "name": "stdout",
     "output_type": "stream",
     "text": [
      "['Mojo']\n"
     ]
    }
   ],
   "source": [
    "recordLabels = labelsElement.find_all('li')\n",
    "labelList = [l.contents[0] for l in recordLabels]\n",
    "print(labelList)"
   ]
  },
  {
   "cell_type": "markdown",
   "metadata": {},
   "source": [
    "Release Year & Reissue flag"
   ]
  },
  {
   "cell_type": "code",
   "execution_count": 24,
   "metadata": {
    "collapsed": false
   },
   "outputs": [
    {
     "name": "stdout",
     "output_type": "stream",
     "text": [
      "<class 'int'>\n",
      "<class 'str'>\n"
     ]
    }
   ],
   "source": [
    "yearText = yearElement.contents[1].text\n",
    "if '/' in yearText:\n",
    "    isReissue = 1\n",
    "    releaseYear = yearText[0:yearText.index('/')]\n",
    "else:\n",
    "    isReissue = 0\n",
    "    releaseYear = yearText\n",
    "    \n",
    "print(type(isReissue))\n",
    "print(type(releaseYear))"
   ]
  },
  {
   "cell_type": "markdown",
   "metadata": {},
   "source": [
    "Score & BNM/BNR tag"
   ]
  },
  {
   "cell_type": "code",
   "execution_count": 15,
   "metadata": {
    "collapsed": false
   },
   "outputs": [
    {
     "name": "stdout",
     "output_type": "stream",
     "text": [
      "7.6\n",
      "0\n",
      "0\n"
     ]
    }
   ],
   "source": [
    "score = float(scoreElement.contents[0])\n",
    "print(score)\n",
    "try:\n",
    "    isBNR = 1 if 'reissue' in bnmElement.text else 0\n",
    "    isBNM = 1 if 'music' in bnmElement.text else 0\n",
    "except:\n",
    "    isBNM = 0\n",
    "    isBNR = 0\n",
    "    \n",
    "print(isBNM)\n",
    "print(isBNR)"
   ]
  },
  {
   "cell_type": "markdown",
   "metadata": {},
   "source": [
    "Writer"
   ]
  },
  {
   "cell_type": "code",
   "execution_count": 16,
   "metadata": {
    "collapsed": false
   },
   "outputs": [
    {
     "name": "stdout",
     "output_type": "stream",
     "text": [
      "Sam Sodomsky\n"
     ]
    }
   ],
   "source": [
    "writer = str(writerElement.contents[0])\n",
    "print(writer)"
   ]
  },
  {
   "cell_type": "markdown",
   "metadata": {},
   "source": [
    "Genres"
   ]
  },
  {
   "cell_type": "code",
   "execution_count": 17,
   "metadata": {
    "collapsed": false
   },
   "outputs": [
    {
     "name": "stdout",
     "output_type": "stream",
     "text": [
      "[]\n"
     ]
    }
   ],
   "source": [
    "genreLis = genreElement.find_all('li')\n",
    "genreList = [g.find('a').contents[0] for g in genreLis]\n",
    "print(genreList)"
   ]
  },
  {
   "cell_type": "markdown",
   "metadata": {},
   "source": [
    "Publish Date"
   ]
  },
  {
   "cell_type": "code",
   "execution_count": 18,
   "metadata": {
    "collapsed": false
   },
   "outputs": [
    {
     "ename": "ValueError",
     "evalue": "time data 'June 8 2016' does not match format '%b %d %Y'",
     "output_type": "error",
     "traceback": [
      "\u001b[0;31m---------------------------------------------------------------------------\u001b[0m",
      "\u001b[0;31mValueError\u001b[0m                                Traceback (most recent call last)",
      "\u001b[0;32m<ipython-input-18-fec2a97ff437>\u001b[0m in \u001b[0;36m<module>\u001b[0;34m()\u001b[0m\n\u001b[1;32m      1\u001b[0m \u001b[0mtimeStr\u001b[0m \u001b[0;34m=\u001b[0m \u001b[0mpublishDateElement\u001b[0m\u001b[0;34m.\u001b[0m\u001b[0mcontents\u001b[0m\u001b[0;34m[\u001b[0m\u001b[0;36m0\u001b[0m\u001b[0;34m]\u001b[0m\u001b[0;34m\u001b[0m\u001b[0m\n\u001b[0;32m----> 2\u001b[0;31m \u001b[0mpublishDate\u001b[0m \u001b[0;34m=\u001b[0m \u001b[0mdatetime\u001b[0m\u001b[0;34m.\u001b[0m\u001b[0mstrptime\u001b[0m\u001b[0;34m(\u001b[0m\u001b[0mtimeStr\u001b[0m\u001b[0;34m,\u001b[0m \u001b[0;34m'%b %d %Y'\u001b[0m\u001b[0;34m)\u001b[0m\u001b[0;34m\u001b[0m\u001b[0m\n\u001b[0m\u001b[1;32m      3\u001b[0m \u001b[0mprint\u001b[0m\u001b[0;34m(\u001b[0m\u001b[0mtype\u001b[0m\u001b[0;34m(\u001b[0m\u001b[0mpublishDate\u001b[0m\u001b[0;34m)\u001b[0m\u001b[0;34m)\u001b[0m\u001b[0;34m\u001b[0m\u001b[0m\n\u001b[1;32m      4\u001b[0m \u001b[0mprint\u001b[0m\u001b[0;34m(\u001b[0m\u001b[0mpublishDate\u001b[0m\u001b[0;34m)\u001b[0m\u001b[0;34m\u001b[0m\u001b[0m\n",
      "\u001b[0;32m/usr/local/Cellar/python3/3.5.1/Frameworks/Python.framework/Versions/3.5/lib/python3.5/_strptime.py\u001b[0m in \u001b[0;36m_strptime_datetime\u001b[0;34m(cls, data_string, format)\u001b[0m\n\u001b[1;32m    498\u001b[0m     \"\"\"Return a class cls instance based on the input string and the\n\u001b[1;32m    499\u001b[0m     format string.\"\"\"\n\u001b[0;32m--> 500\u001b[0;31m     \u001b[0mtt\u001b[0m\u001b[0;34m,\u001b[0m \u001b[0mfraction\u001b[0m \u001b[0;34m=\u001b[0m \u001b[0m_strptime\u001b[0m\u001b[0;34m(\u001b[0m\u001b[0mdata_string\u001b[0m\u001b[0;34m,\u001b[0m \u001b[0mformat\u001b[0m\u001b[0;34m)\u001b[0m\u001b[0;34m\u001b[0m\u001b[0m\n\u001b[0m\u001b[1;32m    501\u001b[0m     \u001b[0mtzname\u001b[0m\u001b[0;34m,\u001b[0m \u001b[0mgmtoff\u001b[0m \u001b[0;34m=\u001b[0m \u001b[0mtt\u001b[0m\u001b[0;34m[\u001b[0m\u001b[0;34m-\u001b[0m\u001b[0;36m2\u001b[0m\u001b[0;34m:\u001b[0m\u001b[0;34m]\u001b[0m\u001b[0;34m\u001b[0m\u001b[0m\n\u001b[1;32m    502\u001b[0m     \u001b[0margs\u001b[0m \u001b[0;34m=\u001b[0m \u001b[0mtt\u001b[0m\u001b[0;34m[\u001b[0m\u001b[0;34m:\u001b[0m\u001b[0;36m6\u001b[0m\u001b[0;34m]\u001b[0m \u001b[0;34m+\u001b[0m \u001b[0;34m(\u001b[0m\u001b[0mfraction\u001b[0m\u001b[0;34m,\u001b[0m\u001b[0;34m)\u001b[0m\u001b[0;34m\u001b[0m\u001b[0m\n",
      "\u001b[0;32m/usr/local/Cellar/python3/3.5.1/Frameworks/Python.framework/Versions/3.5/lib/python3.5/_strptime.py\u001b[0m in \u001b[0;36m_strptime\u001b[0;34m(data_string, format)\u001b[0m\n\u001b[1;32m    335\u001b[0m     \u001b[0;32mif\u001b[0m \u001b[0;32mnot\u001b[0m \u001b[0mfound\u001b[0m\u001b[0;34m:\u001b[0m\u001b[0;34m\u001b[0m\u001b[0m\n\u001b[1;32m    336\u001b[0m         raise ValueError(\"time data %r does not match format %r\" %\n\u001b[0;32m--> 337\u001b[0;31m                          (data_string, format))\n\u001b[0m\u001b[1;32m    338\u001b[0m     \u001b[0;32mif\u001b[0m \u001b[0mlen\u001b[0m\u001b[0;34m(\u001b[0m\u001b[0mdata_string\u001b[0m\u001b[0;34m)\u001b[0m \u001b[0;34m!=\u001b[0m \u001b[0mfound\u001b[0m\u001b[0;34m.\u001b[0m\u001b[0mend\u001b[0m\u001b[0;34m(\u001b[0m\u001b[0;34m)\u001b[0m\u001b[0;34m:\u001b[0m\u001b[0;34m\u001b[0m\u001b[0m\n\u001b[1;32m    339\u001b[0m         raise ValueError(\"unconverted data remains: %s\" %\n",
      "\u001b[0;31mValueError\u001b[0m: time data 'June 8 2016' does not match format '%b %d %Y'"
     ]
    }
   ],
   "source": [
    "timeStr = publishDateElement.contents[0]\n",
    "publishDate = datetime.strptime(timeStr, '%b %d %Y')\n",
    "print(type(publishDate))\n",
    "print(publishDate)"
   ]
  },
  {
   "cell_type": "markdown",
   "metadata": {},
   "source": [
    "Raw Review Text"
   ]
  },
  {
   "cell_type": "code",
   "execution_count": 19,
   "metadata": {
    "collapsed": false,
    "scrolled": true
   },
   "outputs": [
    {
     "name": "stdout",
     "output_type": "stream",
     "text": [
      "<class 'str'>\n",
      "<div class=\"contents dropcap\" data-reactid=\".2bhgugx4dts.1.6:0.1.0.$21997/=1$21997.0.3.2.0.1.0.1\"><p><span style=\"font-weight: 400;\">One of the most famous Dylanisms arose from a conversation with director Sam Peckinpah on the set of the 1973 movie </span><i><span style=\"font-weight: 400;\">Pat Garrett and Billy the Kid</span></i><span style=\"font-weight: 400;\">. “Just be yourself,” Peckinpah suggested to a 32-year-old <a href=\"http://pitchfork.com/artists/1177-bob-dylan/\">Bob Dylan</a> who, by this point, had already been everything from folk messiah to rock Judas, who had received glowing reviews and miserable ones, who once stood as a pillar of New York authenticity and was now struggling to play the role of a mysterious stranger in a Western movie filmed in Durango, Mexico. Fittingly, Dylan snapped back to Peckinpah: “Which one?</span><span style=\"font-weight: 400;\">”</span></p>\n",
      "<p><span style=\"font-weight: 400;\"> If Dylan’s 1966 double album </span><i><span style=\"font-weight: 400;\">Blonde on Blonde </span></i><span style=\"font-weight: 400;\">is generally viewed among his most iconic, it’s because it was his first album to show all the different Dylans in their best light, with appearances from the freewheeling folk singer from the early ‘60s all the way up to the weirdo bluesman he would later become. It’s not Dylan’s only album that plays genre and mood the way other artists use backup guitars, but it’s the one that made them all feel the most coherent, attractive, and maniacally unstoppable.</span></p>\n",
      "<p><span style=\"font-weight: 400;\"><span style=\"font-weight: 400;\">For the album’s fiftieth birthday, an impressive array of acts have gathered to pay homage to its thin, wild, multiple personality disorder. <i>Blonde on Blonde </i><i>Revisited </i>is a worthy tribute, maintaining the album's original track order and flow while also showcasing the wide-ranging talents of the artists collected.</span><span style=\"font-weight: 400;\"> Unfortunately, things don’t start off so hot.</span> <a href=\"http://pitchfork.com/artists/2974-malcolm-middleton/\">Malcolm Middleton</a>’s monotonous </span><i><span style=\"font-weight: 400;\">Matrix</span></i><span style=\"font-weight: 400;\">-soundtrack-meets-hotel-lobby remake of “Rainy Day Woman #12 &amp; 35” at once drains all the brainless fun out of the original while making it sound even more brainless in the process (maybe not </span><i><span style=\"font-weight: 400;\">everybody </span></i><span style=\"font-weight: 400;\">must get stoned). Better is <a href=\"http://pitchfork.com/artists/33696-thomas-cohen/\">Thomas Cohen</a>’s subtle, Britpop remake of “Most Likely You Go Your Way And I’ll Go Mine,” refitting Dylan's bluesy kiss-off with a jazzy, laid-back groove. As evidenced by <a href=\"http://pitchfork.com/reviews/albums/21178-the-cutting-edge-1965-1966-the-bootleg-series-volume-12/\">last year’s fascinating Bootleg Series</a>, however, most of the songs from this era had already been reinvented and torn apart multiple times before being released: the arrangements that Dylan landed on feel definitive for a reason. For the most part, despite the daring, experimental nature of the album proper, the songs that fare best here are also the ones that take the fewest obvious risks. </span></p>\n",
      "<p><span style=\"font-weight: 400;\"><a href=\"http://pitchfork.com/artists/31339-steve-gunn/\">Steve Gunn</a>’s thoughtful vocal performance in “Visions of Johanna” and <a href=\"http://pitchfork.com/artists/29646-michael-chapman/\">Michael Chapman</a>’s intricate guitar work in “Leopard-Skin Pill-Box Hat” are highlights: examples of artists paying homage to Dylan’s songs not through reinvention but through total reverence. Similarly, after contributing some of the most surprising performances on last month’s <i><a href=\"http://pitchfork.com/reviews/albums/21771-day-of-the-dead/\">Day of the Dead</a></i></span><span style=\"font-weight: 400;\">, <a href=\"http://pitchfork.com/artists/3475-phosphorescent/\">Phosphorescent</a> shows up with a refreshingly stripped back take on “I Want You,” recalling the early Oldham-isms of <i><a href=\"http://pitchfork.com/reviews/albums/10815-pride/\">Pride</a></i></span><i><span style=\"font-weight: 400;\"> </span></i><span style=\"font-weight: 400;\">more than the underwater country of <i><a href=\"http://pitchfork.com/reviews/albums/17522-phosphorescent-muchacho/\">Muchacho</a></i></span><span style=\"font-weight: 400;\">. Elsewhere, <a href=\"http://pitchfork.com/artists/3108-marissa-nadler/\">Marissa Nadler</a>’s austere (even for her) take on “Absolutely Sweet Marie” and <a href=\"http://pitchfork.com/artists/32691-ryley-walker/\">Ryley Walker</a>’s stunning “4th Time Around” both make strong cases for each artist’s particular style, illustrating how influential Dylan’s music was for a generation of folk artists hellbent on sounding more like themselves. Like the best of Dylan’s work, these performance sound like timeless standards and unanswerable riddles.</span></p>\n",
      "<p><span style=\"font-weight: 400;\">The real revelation here, though, is the closing number. As was the case on the original </span><i><span style=\"font-weight: 400;\">Blonde on Blonde</span></i><span style=\"font-weight: 400;\">, <a href=\"http://pitchfork.com/artists/3176-jim-orourke/\">Jim O’Rourke</a>’s “Sad Eyed Lady of the Lowlands” takes up the entirety of Side D (and even outlasts Dylan’s by two minutes). O’Rourke refines Dylan’s epic waltz into a gorgeous acoustic ballad– his hushed, emotive vocal recalling </span><i><span style=\"font-weight: 400;\">The Wild, The Innocent</span></i><span style=\"font-weight: 400;\">-era <a href=\"http://pitchfork.com/artists/4053-bruce-springsteen/\">Springsteen</a> in its quiet intensity. Calling back to the initial recording of the song, when Dylan’s band treated every chorus like a climax, assured that </span><i><span style=\"font-weight: 400;\">this</span></i><span style=\"font-weight: 400;\"> must be the last one, O’Rourke inserts a series of found recordings of city streets, ringing phones, and passing cars between the verses. The opposite effect to the original’s eleven-minute runner’s high, these passages find the artist pausing to look out the window, overwhelmed by the task at hand and threatening to quit before coming back with more to say. It’s a fitting tribute to Dylan at a point in his career when he couldn’t even stand still for the duration of a photo shoot, when “being yourself” wasn’t an instruction to follow but an intuitive instinct. </span><i><span style=\"font-weight: 400;\">Blonde on Blonde Revisited</span></i><span style=\"font-weight: 400;\">,</span> <span style=\"font-weight: 400;\">then, serves an album-length response to Dylan’s comeback. Why just be yourself when you can be all of yourselves, all at once?</span></p></div>\n"
     ]
    }
   ],
   "source": [
    "reviewContent = str(reviewContent)\n",
    "print(type(reviewContent))\n",
    "print(reviewContent)"
   ]
  },
  {
   "cell_type": "markdown",
   "metadata": {},
   "source": [
    "Print relevant info"
   ]
  },
  {
   "cell_type": "code",
   "execution_count": 23,
   "metadata": {
    "collapsed": false
   },
   "outputs": [
    {
     "name": "stdout",
     "output_type": "stream",
     "text": [
      "<class 'int'>\n",
      "<class 'str'>\n",
      "<class 'int'>\n",
      "<class 'str'>\n",
      "<class 'str'>\n",
      "<class 'str'>\n",
      "<class 'list'>\n",
      "<class 'list'>\n",
      "<class 'str'>\n",
      "<class 'float'>\n",
      "<class 'int'>\n",
      "<class 'int'>\n",
      "<class 'datetime.datetime'>\n",
      "<class 'str'>\n"
     ]
    }
   ],
   "source": [
    "print(type(artistID))\n",
    "print(type(artistName))\n",
    "print(type(reviewID))\n",
    "print(type(albumName))\n",
    "print(type(reviewLink))\n",
    "print(type(albumArtLink))\n",
    "print(type(genreList))\n",
    "print(type(labelList))\n",
    "print(type(writer))\n",
    "print(type(score))\n",
    "print(type(isBNM))\n",
    "print(type(isBNR))\n",
    "print(type(publishDate))\n",
    "print(type(retrievalTime))\n",
    "print(type(reviewContent))"
   ]
  },
  {
   "cell_type": "code",
   "execution_count": 26,
   "metadata": {
    "collapsed": false,
    "scrolled": true
   },
   "outputs": [
    {
     "name": "stdout",
     "output_type": "stream",
     "text": [
      "32785\n",
      "Car Seat Headrest\n",
      "21673\n",
      "Teens of Denial\n",
      "http://pitchfork.com/reviews/albums/21673-teens-of-denial/\n",
      "http://cdn.pitchfork.com/albums/22996/homepage_large.2365f6ed.jpg\n",
      "['Rock']\n",
      "['Matador']\n",
      "Jeremy Gordon\n",
      "8.5\n",
      "1\n",
      "0\n",
      "2016-05-20 00:00:00\n",
      "2016-06-07 07:20:23.114909\n",
      "<div class=\"contents dropcap\" data-reactid=\".m66t7y86bk.1.6:0.1.0.$21673/=1$21673.0.3.2.0.1.0.1\"><p><span style=\"font-weight: 400;\">Sometimes, drugs are no fun. The rad night you imagined, watching </span><i><span style=\"font-weight: 400;\">2001: A Space Odyssey</span></i><span style=\"font-weight: 400;\"> and brushing against the outer boundaries of your consciousness, becomes a six-hour hell of wondering </span><i><span style=\"font-weight: 400;\">Did I leave the oven on? </span></i><span style=\"font-weight: 400;\">or </span><i><span style=\"font-weight: 400;\">Did I look weird when I said that thing to that one person</span></i><span style=\"font-weight: 400;\"> or</span><i><span style=\"font-weight: 400;\"> Do I just </span></i><span style=\"font-weight: 400;\">think</span><i><span style=\"font-weight: 400;\"> I looked weird but was I probably </span></i><span style=\"font-weight: 400;\">not</span><i><span style=\"font-weight: 400;\"> that weird despite the person obviously thinking I was?</span></i><span style=\"font-weight: 400;\"> and so on. But I’ve never heard someone sum it up as succinctly as Will Toledo does: “Last Friday, I took acid and mushrooms/I did not transcend, I felt like a walking piece of shit/in a stupid-looking jacket.”</span></p>\n",
      "<p><span style=\"font-weight: 400;\">That’s from an eminently quotable song called “(Joe Gets Kicked Out of School For Using) Drugs With Friends (But Says This Isn't a Problem)” on <a href=\"http://pitchfork.com/artists/32785-car-seat-headrest/\">Car Seat Headrest</a>’s new record, </span><i><span style=\"font-weight: 400;\">Teens of Denial</span></i><span style=\"font-weight: 400;\">, wherein Toledo feels both boundless and deeply, deeply lame as he tries to sort out his life and shake off the chemicals. He doesn’t transcend, but he sees Jesus. He coins a perfect phrase for emotionally distraught, image-conscious young hedonists—“teens of style”—and becomes sort of disgusted by them, even though he knows he and them are all one and the same. He says “Mmmhmm” a lot, which is all you can do during a gnarly trip. Built around some delicate chord changes, Toledo’s pensive singing voice, and a backing band that slowly comes in as the trip gets worse, it actually sounds</span> <span style=\"font-weight: 400;\">like a guy walking around town while sifting beautiful thoughts from the bad ones—a perfect pairing of form and content.</span></p>\n",
      "<p><span style=\"font-weight: 400;\">It’s the best song about being a confused, chemically dependent 20-something I’ve heard in years. Its appearance on </span><i><span style=\"font-weight: 400;\">Teens of Denial</span></i><span style=\"font-weight: 400;\">, Toledo’s first properly recorded album of new material for Matador, is the moment you realize he’s running ahead of the pack as an incredibly imaginative, insightful singer-songwriter who’s also capable of crafting a dynamic rock song. </span><i><span style=\"font-weight: 400;\">Teens of Denial</span></i><span style=\"font-weight: 400;\"> follows last year’s <i><a href=\"http://pitchfork.com/reviews/albums/21121-teens-of-style/\">Teens of Style</a></i></span><span style=\"font-weight: 400;\">, a collection of re-recorded tracks taken from his prolific Bandcamp output. </span><i><span style=\"font-weight: 400;\">Teens of Style </span></i><span style=\"font-weight: 400;\">presented Toledo as a promising young voice, but maybe <i>anyone</i> would sound promising if given the chance to curate and improve upon their best moments over the last five years. <i>Teens of Style</i> was already great, but </span><i><span style=\"font-weight: 400;\">Teens of Denial </span></i><span style=\"font-weight: 400;\">is such a leap forward that it still manages to surprise.</span><span style=\"font-weight: 400;\"> Recorded in a studio with a real band, it’s a continuation of Toledo's every-Matador-band-in-a-blender sound: <a href=\"http://pitchfork.com/artists/4699-yo-la-tengo/\">Yo La Tengo</a>’s soft-loud dynamics, <a href=\"http://pitchfork.com/artists/1798-guided-by-voices/\">Guided By Voices</a>’ jagged pop iridescence, late-period <a href=\"http://pitchfork.com/artists/2655-stephen-malkmus/\">Malkmus</a>’ guitar theatrics, all bundled with emotive, immersive lyrics detailing a frazzled state of mind.</span></p>\n",
      "<p><span style=\"font-weight: 400;\">Thanks to Andrew Katz’s propulsive drumming, some cleaner production, and Toledo’s increasing ambition, it sounds more expansive—a firm declaration of talent, rather than a tease. He packs more ideas into “<a href=\"http://pitchfork.com/reviews/tracks/18051-car-seat-headrest-vincent/\">Vincent</a>”'s paranoia, “Unforgiving Girl (She's Not An)”'s romantic euphoria, and the allusive, epic “The Ballad of the Costa Concordia” than some bands put into entire albums. On “Concordia,” an almost 12-minute track about navigating one’s inadequacies after a life of substance abuse that slowly builds to a towering release, Toledo seamlessly drops a whole Dido verse in the middle. It comes out from nowhere, but it works. (An earlier version of the album included an excellent song “Just What I Wanted/Not Just What I Needed,” which daringly interpolated the <a href=\"http://pitchfork.com/artists/690-the-cars/\">Cars</a>’ “Just What I Needed,” but a copyright snafu led to its <a href=\"http://pitchfork.com/news/65444-car-seat-headrest-lps-destroyed-because-ric-ocasek-wouldnt-authorize-a-cars-sample/\">cutting</a>. The revised version, “Not What I Needed,” sounds fine, though the censored mp3s making their way around the internet must be heard.)</span></p>\n",
      "<p><span style=\"font-weight: 400;\">Even with the bigger budget and brighter environs, Toledo's underriding DIY sensibility comes through. You can hear it in the margin-scrawl messiness of his lyrics, which forego neat-and-tidy narratives for  abstractions, like he's snatching flitting images that run through his brain. More important than this deft lyrical touch, though, is his ability to display it within a musically engaging song. Unlike some indie-rock songwriters, Toledo's lyrics don't just sit on the page. The choruses don't arrive at the expected moments or follow traditional shapes, but they hit hard nonetheless: The high harmonies on “Joe Gets Kicked Out” and “Drunk Divers/Killer Whales” are destined for festival singalongs, while “<a href=\"http://pitchfork.com/reviews/tracks/18175-car-seat-headrest-fill-in-the-blank/\">Fill in the Blank</a>” is a burly, driving rock song that might even drive Car Seat’s sensitive listeners to mosh a little. </span></p>\n",
      "<p><i><span style=\"font-weight: 400;\">Teens of Denial</span></i><span style=\"font-weight: 400;\"> is guitar-driven music filled with booksmart lyrics concerned largely with depression, which naturally means that Toledo has been championed in some circles as an “indie rock savior,” whatever that means. It comes at the same time as a widespread feeling that the idea of “indie rock” itself on the wane. These arguments are often folded into an increased irritation at what might be called “white male ennui,” the root cause of so much stylishly produced music over the last however many years. But depression is colorblind, and Toledo treats sadness not as a stopping point, but as transformative. (At any rate, he’s also multiracial.) There’s an honest reckoning with what his wallowing has led to, and rapturous exhortation when logic alone cannot solve a problem. “I’ve got a right to be depressed,” he yells on “Fill in the Blank,” moments after calling himself out as a little whiner. It’s an emotional conclusion that comes at the beginning of the album, a neat reminder that even after a moment of clarity, there’s always farther to go. </span></p></div>\n"
     ]
    }
   ],
   "source": [
    "print(artistID)\n",
    "reviewDict = {'artistID':artistID}\n",
    "print(artistName)\n",
    "reviewDict['artistName'] = artistName\n",
    "print(reviewID)\n",
    "reviewDict['reviewID'] = reviewID\n",
    "print(albumName)\n",
    "reviewDict['albumName'] = albumName\n",
    "print(reviewLink)\n",
    "reviewDict['reviewLink'] = reviewLink\n",
    "print(albumArtLink)\n",
    "reviewDict['albumArtLink'] = albumArtLink\n",
    "print(genreList)\n",
    "reviewDict['genreList'] = genreList\n",
    "print(labelList)\n",
    "reviewDict['labelList'] = labelList\n",
    "print(writer)\n",
    "reviewDict['writer'] = writer\n",
    "print(score)\n",
    "reviewDict['score'] = score\n",
    "print(isBNM)\n",
    "reviewDict['isBNM'] = isBNM\n",
    "print(isBNR)\n",
    "reviewDict['isBNR'] = isBNR\n",
    "print(publishDate)\n",
    "reviewDict['publishDate'] = publishDate\n",
    "print(retrievalTime)\n",
    "reviewDict['retrievalTime'] = retrievalTime\n",
    "print(reviewContent)\n",
    "reviewDict['reviewContent'] = reviewContent"
   ]
  },
  {
   "cell_type": "code",
   "execution_count": 29,
   "metadata": {
    "collapsed": false,
    "scrolled": true
   },
   "outputs": [],
   "source": [
    "multiDict = []\n",
    "multiDict.append(reviewDict)"
   ]
  },
  {
   "cell_type": "code",
   "execution_count": 404,
   "metadata": {
    "collapsed": false
   },
   "outputs": [],
   "source": [
    "reviewDataFrame = pd.DataFrame([reviewDict])"
   ]
  },
  {
   "cell_type": "code",
   "execution_count": 407,
   "metadata": {
    "collapsed": false
   },
   "outputs": [
    {
     "name": "stdout",
     "output_type": "stream",
     "text": [
      "                                        albumArtLink  albumName  artistID  \\\n",
      "0  http://cdn.pitchfork.com/albums/23204/homepage...  Strangers      3108   \n",
      "\n",
      "       artistName       genreList  isBNM  isBNR       labelList publishDate  \\\n",
      "0  Marissa Nadler  [Folk/Country]      0      0  [Sacred Bones]  2016-05-21   \n",
      "\n",
      "               retrievalTime  \\\n",
      "0 2016-06-04 14:16:39.627244   \n",
      "\n",
      "                                       reviewContent  reviewID  \\\n",
      "0  <div class=\"contents dropcap\" data-reactid=\".1...     21864   \n",
      "\n",
      "                                          reviewLink  score           writer  \n",
      "0  http://pitchfork.com/reviews/albums/21864-stra...    7.6  Marcus J. Moore  \n"
     ]
    }
   ],
   "source": [
    "print(reviewDataFrame)"
   ]
  },
  {
   "cell_type": "code",
   "execution_count": 426,
   "metadata": {
    "collapsed": false
   },
   "outputs": [
    {
     "name": "stdout",
     "output_type": "stream",
     "text": [
      "{'artistID': 32785, 'isBNM': 1, 'reviewLink': 'http://pitchfork.com/reviews/albums/21673-teens-of-denial/', 'artistName': 'Car Seat Headrest', 'publishDate': datetime.datetime(2016, 5, 20, 0, 0), 'reviewContent': <div class=\"contents dropcap\" data-reactid=\".76eqj8ary8.1.6:0.1.0.$21673/=1$21673.0.3.2.0.1.0.1\"><p><span style=\"font-weight: 400;\">Sometimes, drugs are no fun. The rad night you imagined, watching </span><i><span style=\"font-weight: 400;\">2001: A Space Odyssey</span></i><span style=\"font-weight: 400;\"> and brushing against the outer boundaries of your consciousness, becomes a six-hour hell of wondering </span><i><span style=\"font-weight: 400;\">Did I leave the oven on? </span></i><span style=\"font-weight: 400;\">or </span><i><span style=\"font-weight: 400;\">Did I look weird when I said that thing to that one person</span></i><span style=\"font-weight: 400;\"> or</span><i><span style=\"font-weight: 400;\"> Do I just </span></i><span style=\"font-weight: 400;\">think</span><i><span style=\"font-weight: 400;\"> I looked weird but was I probably </span></i><span style=\"font-weight: 400;\">not</span><i><span style=\"font-weight: 400;\"> that weird despite the person obviously thinking I was?</span></i><span style=\"font-weight: 400;\"> and so on. But I’ve never heard someone sum it up as succinctly as Will Toledo does: “Last Friday, I took acid and mushrooms/I did not transcend, I felt like a walking piece of shit/in a stupid-looking jacket.”</span></p>\n",
      "<p><span style=\"font-weight: 400;\">That’s from an eminently quotable song called “(Joe Gets Kicked Out of School For Using) Drugs With Friends (But Says This Isn't a Problem)” on <a href=\"http://pitchfork.com/artists/32785-car-seat-headrest/\">Car Seat Headrest</a>’s new record, </span><i><span style=\"font-weight: 400;\">Teens of Denial</span></i><span style=\"font-weight: 400;\">, wherein Toledo feels both boundless and deeply, deeply lame as he tries to sort out his life and shake off the chemicals. He doesn’t transcend, but he sees Jesus. He coins a perfect phrase for emotionally distraught, image-conscious young hedonists—“teens of style”—and becomes sort of disgusted by them, even though he knows he and them are all one and the same. He says “Mmmhmm” a lot, which is all you can do during a gnarly trip. Built around some delicate chord changes, Toledo’s pensive singing voice, and a backing band that slowly comes in as the trip gets worse, it actually sounds</span> <span style=\"font-weight: 400;\">like a guy walking around town while sifting beautiful thoughts from the bad ones—a perfect pairing of form and content.</span></p>\n",
      "<p><span style=\"font-weight: 400;\">It’s the best song about being a confused, chemically dependent 20-something I’ve heard in years. Its appearance on </span><i><span style=\"font-weight: 400;\">Teens of Denial</span></i><span style=\"font-weight: 400;\">, Toledo’s first properly recorded album of new material for Matador, is the moment you realize he’s running ahead of the pack as an incredibly imaginative, insightful singer-songwriter who’s also capable of crafting a dynamic rock song. </span><i><span style=\"font-weight: 400;\">Teens of Denial</span></i><span style=\"font-weight: 400;\"> follows last year’s <i><a href=\"http://pitchfork.com/reviews/albums/21121-teens-of-style/\">Teens of Style</a></i></span><span style=\"font-weight: 400;\">, a collection of re-recorded tracks taken from his prolific Bandcamp output. </span><i><span style=\"font-weight: 400;\">Teens of Style </span></i><span style=\"font-weight: 400;\">presented Toledo as a promising young voice, but maybe <i>anyone</i> would sound promising if given the chance to curate and improve upon their best moments over the last five years. <i>Teens of Style</i> was already great, but </span><i><span style=\"font-weight: 400;\">Teens of Denial </span></i><span style=\"font-weight: 400;\">is such a leap forward that it still manages to surprise.</span><span style=\"font-weight: 400;\"> Recorded in a studio with a real band, it’s a continuation of Toledo's every-Matador-band-in-a-blender sound: <a href=\"http://pitchfork.com/artists/4699-yo-la-tengo/\">Yo La Tengo</a>’s soft-loud dynamics, <a href=\"http://pitchfork.com/artists/1798-guided-by-voices/\">Guided By Voices</a>’ jagged pop iridescence, late-period <a href=\"http://pitchfork.com/artists/2655-stephen-malkmus/\">Malkmus</a>’ guitar theatrics, all bundled with emotive, immersive lyrics detailing a frazzled state of mind.</span></p>\n",
      "<p><span style=\"font-weight: 400;\">Thanks to Andrew Katz’s propulsive drumming, some cleaner production, and Toledo’s increasing ambition, it sounds more expansive—a firm declaration of talent, rather than a tease. He packs more ideas into “<a href=\"http://pitchfork.com/reviews/tracks/18051-car-seat-headrest-vincent/\">Vincent</a>”'s paranoia, “Unforgiving Girl (She's Not An)”'s romantic euphoria, and the allusive, epic “The Ballad of the Costa Concordia” than some bands put into entire albums. On “Concordia,” an almost 12-minute track about navigating one’s inadequacies after a life of substance abuse that slowly builds to a towering release, Toledo seamlessly drops a whole Dido verse in the middle. It comes out from nowhere, but it works. (An earlier version of the album included an excellent song “Just What I Wanted/Not Just What I Needed,” which daringly interpolated the <a href=\"http://pitchfork.com/artists/690-the-cars/\">Cars</a>’ “Just What I Needed,” but a copyright snafu led to its <a href=\"http://pitchfork.com/news/65444-car-seat-headrest-lps-destroyed-because-ric-ocasek-wouldnt-authorize-a-cars-sample/\">cutting</a>. The revised version, “Not What I Needed,” sounds fine, though the censored mp3s making their way around the internet must be heard.)</span></p>\n",
      "<p><span style=\"font-weight: 400;\">Even with the bigger budget and brighter environs, Toledo's underriding DIY sensibility comes through. You can hear it in the margin-scrawl messiness of his lyrics, which forego neat-and-tidy narratives for  abstractions, like he's snatching flitting images that run through his brain. More important than this deft lyrical touch, though, is his ability to display it within a musically engaging song. Unlike some indie-rock songwriters, Toledo's lyrics don't just sit on the page. The choruses don't arrive at the expected moments or follow traditional shapes, but they hit hard nonetheless: The high harmonies on “Joe Gets Kicked Out” and “Drunk Divers/Killer Whales” are destined for festival singalongs, while “<a href=\"http://pitchfork.com/reviews/tracks/18175-car-seat-headrest-fill-in-the-blank/\">Fill in the Blank</a>” is a burly, driving rock song that might even drive Car Seat’s sensitive listeners to mosh a little. </span></p>\n",
      "<p><i><span style=\"font-weight: 400;\">Teens of Denial</span></i><span style=\"font-weight: 400;\"> is guitar-driven music filled with booksmart lyrics concerned largely with depression, which naturally means that Toledo has been championed in some circles as an “indie rock savior,” whatever that means. It comes at the same time as a widespread feeling that the idea of “indie rock” itself on the wane. These arguments are often folded into an increased irritation at what might be called “white male ennui,” the root cause of so much stylishly produced music over the last however many years. But depression is colorblind, and Toledo treats sadness not as a stopping point, but as transformative. (At any rate, he’s also multiracial.) There’s an honest reckoning with what his wallowing has led to, and rapturous exhortation when logic alone cannot solve a problem. “I’ve got a right to be depressed,” he yells on “Fill in the Blank,” moments after calling himself out as a little whiner. It’s an emotional conclusion that comes at the beginning of the album, a neat reminder that even after a moment of clarity, there’s always farther to go. </span></p></div>, 'reviewID': 21673, 'score': 8.5, 'isBNR': 0, 'albumName': 'Teens of Denial', 'retrievalTime': datetime.datetime(2016, 6, 4, 16, 42, 51, 568383), 'albumArtLink': 'http://cdn.pitchfork.com/albums/22996/homepage_large.2365f6ed.jpg', 'writer': 'Jeremy Gordon', 'genreList': ['Rock'], 'labelList': ['Matador']}\n"
     ]
    },
    {
     "data": {
      "text/html": [
       "<div>\n",
       "<table border=\"1\" class=\"dataframe\">\n",
       "  <thead>\n",
       "    <tr style=\"text-align: right;\">\n",
       "      <th></th>\n",
       "      <th>albumArtLink</th>\n",
       "      <th>albumName</th>\n",
       "      <th>artistID</th>\n",
       "      <th>artistName</th>\n",
       "      <th>genreList</th>\n",
       "      <th>isBNM</th>\n",
       "      <th>isBNR</th>\n",
       "      <th>labelList</th>\n",
       "      <th>publishDate</th>\n",
       "      <th>retrievalTime</th>\n",
       "      <th>reviewContent</th>\n",
       "      <th>reviewID</th>\n",
       "      <th>reviewLink</th>\n",
       "      <th>score</th>\n",
       "      <th>writer</th>\n",
       "    </tr>\n",
       "  </thead>\n",
       "  <tbody>\n",
       "    <tr>\n",
       "      <th>0</th>\n",
       "      <td>http://cdn.pitchfork.com/albums/23204/homepage...</td>\n",
       "      <td>Strangers</td>\n",
       "      <td>3108</td>\n",
       "      <td>Marissa Nadler</td>\n",
       "      <td>[Folk/Country]</td>\n",
       "      <td>0</td>\n",
       "      <td>0</td>\n",
       "      <td>[Sacred Bones]</td>\n",
       "      <td>2016-05-21</td>\n",
       "      <td>2016-06-04 14:16:39.627244</td>\n",
       "      <td>&lt;div class=\"contents dropcap\" data-reactid=\".1...</td>\n",
       "      <td>21864</td>\n",
       "      <td>http://pitchfork.com/reviews/albums/21864-stra...</td>\n",
       "      <td>7.6</td>\n",
       "      <td>Marcus J. Moore</td>\n",
       "    </tr>\n",
       "    <tr>\n",
       "      <th>0</th>\n",
       "      <td>http://cdn.pitchfork.com/albums/22996/homepage...</td>\n",
       "      <td>Teens of Denial</td>\n",
       "      <td>32785</td>\n",
       "      <td>Car Seat Headrest</td>\n",
       "      <td>[Rock]</td>\n",
       "      <td>1</td>\n",
       "      <td>0</td>\n",
       "      <td>[Matador]</td>\n",
       "      <td>2016-05-20</td>\n",
       "      <td>2016-06-04 16:42:51.568383</td>\n",
       "      <td>&lt;div class=\"contents dropcap\" data-reactid=\".7...</td>\n",
       "      <td>21673</td>\n",
       "      <td>http://pitchfork.com/reviews/albums/21673-teen...</td>\n",
       "      <td>8.5</td>\n",
       "      <td>Jeremy Gordon</td>\n",
       "    </tr>\n",
       "  </tbody>\n",
       "</table>\n",
       "</div>"
      ],
      "text/plain": [
       "                                        albumArtLink        albumName  \\\n",
       "0  http://cdn.pitchfork.com/albums/23204/homepage...        Strangers   \n",
       "0  http://cdn.pitchfork.com/albums/22996/homepage...  Teens of Denial   \n",
       "\n",
       "   artistID         artistName       genreList  isBNM  isBNR       labelList  \\\n",
       "0      3108     Marissa Nadler  [Folk/Country]      0      0  [Sacred Bones]   \n",
       "0     32785  Car Seat Headrest          [Rock]      1      0       [Matador]   \n",
       "\n",
       "  publishDate              retrievalTime  \\\n",
       "0  2016-05-21 2016-06-04 14:16:39.627244   \n",
       "0  2016-05-20 2016-06-04 16:42:51.568383   \n",
       "\n",
       "                                       reviewContent  reviewID  \\\n",
       "0  <div class=\"contents dropcap\" data-reactid=\".1...     21864   \n",
       "0  <div class=\"contents dropcap\" data-reactid=\".7...     21673   \n",
       "\n",
       "                                          reviewLink  score           writer  \n",
       "0  http://pitchfork.com/reviews/albums/21864-stra...    7.6  Marcus J. Moore  \n",
       "0  http://pitchfork.com/reviews/albums/21673-teen...    8.5    Jeremy Gordon  "
      ]
     },
     "execution_count": 426,
     "metadata": {},
     "output_type": "execute_result"
    }
   ],
   "source": [
    "print(reviewDict)\n",
    "reviewDataFrame.append([reviewDict])"
   ]
  },
  {
   "cell_type": "code",
   "execution_count": 429,
   "metadata": {
    "collapsed": false
   },
   "outputs": [],
   "source": [
    "indexFrame = reviewDataFrame.set_index('reviewID')"
   ]
  },
  {
   "cell_type": "code",
   "execution_count": 432,
   "metadata": {
    "collapsed": false
   },
   "outputs": [
    {
     "data": {
      "text/html": [
       "<div>\n",
       "<table border=\"1\" class=\"dataframe\">\n",
       "  <thead>\n",
       "    <tr style=\"text-align: right;\">\n",
       "      <th></th>\n",
       "      <th>albumArtLink</th>\n",
       "      <th>albumName</th>\n",
       "      <th>artistID</th>\n",
       "      <th>artistName</th>\n",
       "      <th>genreList</th>\n",
       "      <th>isBNM</th>\n",
       "      <th>isBNR</th>\n",
       "      <th>labelList</th>\n",
       "      <th>publishDate</th>\n",
       "      <th>retrievalTime</th>\n",
       "      <th>reviewContent</th>\n",
       "      <th>reviewID</th>\n",
       "      <th>reviewLink</th>\n",
       "      <th>score</th>\n",
       "      <th>writer</th>\n",
       "    </tr>\n",
       "    <tr>\n",
       "      <th>reviewID</th>\n",
       "      <th></th>\n",
       "      <th></th>\n",
       "      <th></th>\n",
       "      <th></th>\n",
       "      <th></th>\n",
       "      <th></th>\n",
       "      <th></th>\n",
       "      <th></th>\n",
       "      <th></th>\n",
       "      <th></th>\n",
       "      <th></th>\n",
       "      <th></th>\n",
       "      <th></th>\n",
       "      <th></th>\n",
       "      <th></th>\n",
       "    </tr>\n",
       "  </thead>\n",
       "  <tbody>\n",
       "    <tr>\n",
       "      <th>21864</th>\n",
       "      <td>http://cdn.pitchfork.com/albums/23204/homepage...</td>\n",
       "      <td>Strangers</td>\n",
       "      <td>3108</td>\n",
       "      <td>Marissa Nadler</td>\n",
       "      <td>[Folk/Country]</td>\n",
       "      <td>0</td>\n",
       "      <td>0</td>\n",
       "      <td>[Sacred Bones]</td>\n",
       "      <td>2016-05-21</td>\n",
       "      <td>2016-06-04 14:16:39.627244</td>\n",
       "      <td>&lt;div class=\"contents dropcap\" data-reactid=\".1...</td>\n",
       "      <td>NaN</td>\n",
       "      <td>http://pitchfork.com/reviews/albums/21864-stra...</td>\n",
       "      <td>7.6</td>\n",
       "      <td>Marcus J. Moore</td>\n",
       "    </tr>\n",
       "    <tr>\n",
       "      <th>0</th>\n",
       "      <td>http://cdn.pitchfork.com/albums/22996/homepage...</td>\n",
       "      <td>Teens of Denial</td>\n",
       "      <td>32785</td>\n",
       "      <td>Car Seat Headrest</td>\n",
       "      <td>[Rock]</td>\n",
       "      <td>1</td>\n",
       "      <td>0</td>\n",
       "      <td>[Matador]</td>\n",
       "      <td>2016-05-20</td>\n",
       "      <td>2016-06-04 16:42:51.568383</td>\n",
       "      <td>&lt;div class=\"contents dropcap\" data-reactid=\".7...</td>\n",
       "      <td>21673.0</td>\n",
       "      <td>http://pitchfork.com/reviews/albums/21673-teen...</td>\n",
       "      <td>8.5</td>\n",
       "      <td>Jeremy Gordon</td>\n",
       "    </tr>\n",
       "  </tbody>\n",
       "</table>\n",
       "</div>"
      ],
      "text/plain": [
       "                                               albumArtLink        albumName  \\\n",
       "reviewID                                                                       \n",
       "21864     http://cdn.pitchfork.com/albums/23204/homepage...        Strangers   \n",
       "0         http://cdn.pitchfork.com/albums/22996/homepage...  Teens of Denial   \n",
       "\n",
       "          artistID         artistName       genreList  isBNM  isBNR  \\\n",
       "reviewID                                                              \n",
       "21864         3108     Marissa Nadler  [Folk/Country]      0      0   \n",
       "0            32785  Car Seat Headrest          [Rock]      1      0   \n",
       "\n",
       "               labelList publishDate              retrievalTime  \\\n",
       "reviewID                                                          \n",
       "21864     [Sacred Bones]  2016-05-21 2016-06-04 14:16:39.627244   \n",
       "0              [Matador]  2016-05-20 2016-06-04 16:42:51.568383   \n",
       "\n",
       "                                              reviewContent  reviewID  \\\n",
       "reviewID                                                                \n",
       "21864     <div class=\"contents dropcap\" data-reactid=\".1...       NaN   \n",
       "0         <div class=\"contents dropcap\" data-reactid=\".7...   21673.0   \n",
       "\n",
       "                                                 reviewLink  score  \\\n",
       "reviewID                                                             \n",
       "21864     http://pitchfork.com/reviews/albums/21864-stra...    7.6   \n",
       "0         http://pitchfork.com/reviews/albums/21673-teen...    8.5   \n",
       "\n",
       "                   writer  \n",
       "reviewID                   \n",
       "21864     Marcus J. Moore  \n",
       "0           Jeremy Gordon  "
      ]
     },
     "execution_count": 432,
     "metadata": {},
     "output_type": "execute_result"
    }
   ],
   "source": [
    "indexFrame.append([reviewDict])"
   ]
  },
  {
   "cell_type": "code",
   "execution_count": 463,
   "metadata": {
    "collapsed": false
   },
   "outputs": [
    {
     "ename": "KeyError",
     "evalue": "21673",
     "output_type": "error",
     "traceback": [
      "\u001b[0;31m---------------------------------------------------------------------------\u001b[0m",
      "\u001b[0;31mKeyError\u001b[0m                                  Traceback (most recent call last)",
      "\u001b[0;32m/Users/rgreasons/Desktop/p4k/pitchscrape/pitchscrape/lib/python3.5/site-packages/pandas/indexes/base.py\u001b[0m in \u001b[0;36mget_loc\u001b[0;34m(self, key, method, tolerance)\u001b[0m\n\u001b[1;32m   1944\u001b[0m             \u001b[0;32mtry\u001b[0m\u001b[0;34m:\u001b[0m\u001b[0;34m\u001b[0m\u001b[0m\n\u001b[0;32m-> 1945\u001b[0;31m                 \u001b[0;32mreturn\u001b[0m \u001b[0mself\u001b[0m\u001b[0;34m.\u001b[0m\u001b[0m_engine\u001b[0m\u001b[0;34m.\u001b[0m\u001b[0mget_loc\u001b[0m\u001b[0;34m(\u001b[0m\u001b[0mkey\u001b[0m\u001b[0;34m)\u001b[0m\u001b[0;34m\u001b[0m\u001b[0m\n\u001b[0m\u001b[1;32m   1946\u001b[0m             \u001b[0;32mexcept\u001b[0m \u001b[0mKeyError\u001b[0m\u001b[0;34m:\u001b[0m\u001b[0;34m\u001b[0m\u001b[0m\n",
      "\u001b[0;32mpandas/index.pyx\u001b[0m in \u001b[0;36mpandas.index.IndexEngine.get_loc (pandas/index.c:4154)\u001b[0;34m()\u001b[0m\n",
      "\u001b[0;32mpandas/index.pyx\u001b[0m in \u001b[0;36mpandas.index.IndexEngine.get_loc (pandas/index.c:4018)\u001b[0;34m()\u001b[0m\n",
      "\u001b[0;32mpandas/hashtable.pyx\u001b[0m in \u001b[0;36mpandas.hashtable.PyObjectHashTable.get_item (pandas/hashtable.c:12368)\u001b[0;34m()\u001b[0m\n",
      "\u001b[0;32mpandas/hashtable.pyx\u001b[0m in \u001b[0;36mpandas.hashtable.PyObjectHashTable.get_item (pandas/hashtable.c:12322)\u001b[0;34m()\u001b[0m\n",
      "\u001b[0;31mKeyError\u001b[0m: 21673",
      "\nDuring handling of the above exception, another exception occurred:\n",
      "\u001b[0;31mKeyError\u001b[0m                                  Traceback (most recent call last)",
      "\u001b[0;32m<ipython-input-463-91e8cc5411ab>\u001b[0m in \u001b[0;36m<module>\u001b[0;34m()\u001b[0m\n\u001b[0;32m----> 1\u001b[0;31m \u001b[0mreviewDataFrame\u001b[0m\u001b[0;34m.\u001b[0m\u001b[0mset_index\u001b[0m\u001b[0;34m(\u001b[0m\u001b[0mreviewID\u001b[0m\u001b[0;34m)\u001b[0m\u001b[0;34m\u001b[0m\u001b[0m\n\u001b[0m",
      "\u001b[0;32m/Users/rgreasons/Desktop/p4k/pitchscrape/pitchscrape/lib/python3.5/site-packages/pandas/core/frame.py\u001b[0m in \u001b[0;36mset_index\u001b[0;34m(self, keys, drop, append, inplace, verify_integrity)\u001b[0m\n\u001b[1;32m   2835\u001b[0m                 \u001b[0mnames\u001b[0m\u001b[0;34m.\u001b[0m\u001b[0mappend\u001b[0m\u001b[0;34m(\u001b[0m\u001b[0;32mNone\u001b[0m\u001b[0;34m)\u001b[0m\u001b[0;34m\u001b[0m\u001b[0m\n\u001b[1;32m   2836\u001b[0m             \u001b[0;32melse\u001b[0m\u001b[0;34m:\u001b[0m\u001b[0;34m\u001b[0m\u001b[0m\n\u001b[0;32m-> 2837\u001b[0;31m                 \u001b[0mlevel\u001b[0m \u001b[0;34m=\u001b[0m \u001b[0mframe\u001b[0m\u001b[0;34m[\u001b[0m\u001b[0mcol\u001b[0m\u001b[0;34m]\u001b[0m\u001b[0;34m.\u001b[0m\u001b[0m_values\u001b[0m\u001b[0;34m\u001b[0m\u001b[0m\n\u001b[0m\u001b[1;32m   2838\u001b[0m                 \u001b[0mnames\u001b[0m\u001b[0;34m.\u001b[0m\u001b[0mappend\u001b[0m\u001b[0;34m(\u001b[0m\u001b[0mcol\u001b[0m\u001b[0;34m)\u001b[0m\u001b[0;34m\u001b[0m\u001b[0m\n\u001b[1;32m   2839\u001b[0m                 \u001b[0;32mif\u001b[0m \u001b[0mdrop\u001b[0m\u001b[0;34m:\u001b[0m\u001b[0;34m\u001b[0m\u001b[0m\n",
      "\u001b[0;32m/Users/rgreasons/Desktop/p4k/pitchscrape/pitchscrape/lib/python3.5/site-packages/pandas/core/frame.py\u001b[0m in \u001b[0;36m__getitem__\u001b[0;34m(self, key)\u001b[0m\n\u001b[1;32m   1995\u001b[0m             \u001b[0;32mreturn\u001b[0m \u001b[0mself\u001b[0m\u001b[0;34m.\u001b[0m\u001b[0m_getitem_multilevel\u001b[0m\u001b[0;34m(\u001b[0m\u001b[0mkey\u001b[0m\u001b[0;34m)\u001b[0m\u001b[0;34m\u001b[0m\u001b[0m\n\u001b[1;32m   1996\u001b[0m         \u001b[0;32melse\u001b[0m\u001b[0;34m:\u001b[0m\u001b[0;34m\u001b[0m\u001b[0m\n\u001b[0;32m-> 1997\u001b[0;31m             \u001b[0;32mreturn\u001b[0m \u001b[0mself\u001b[0m\u001b[0;34m.\u001b[0m\u001b[0m_getitem_column\u001b[0m\u001b[0;34m(\u001b[0m\u001b[0mkey\u001b[0m\u001b[0;34m)\u001b[0m\u001b[0;34m\u001b[0m\u001b[0m\n\u001b[0m\u001b[1;32m   1998\u001b[0m \u001b[0;34m\u001b[0m\u001b[0m\n\u001b[1;32m   1999\u001b[0m     \u001b[0;32mdef\u001b[0m \u001b[0m_getitem_column\u001b[0m\u001b[0;34m(\u001b[0m\u001b[0mself\u001b[0m\u001b[0;34m,\u001b[0m \u001b[0mkey\u001b[0m\u001b[0;34m)\u001b[0m\u001b[0;34m:\u001b[0m\u001b[0;34m\u001b[0m\u001b[0m\n",
      "\u001b[0;32m/Users/rgreasons/Desktop/p4k/pitchscrape/pitchscrape/lib/python3.5/site-packages/pandas/core/frame.py\u001b[0m in \u001b[0;36m_getitem_column\u001b[0;34m(self, key)\u001b[0m\n\u001b[1;32m   2002\u001b[0m         \u001b[0;31m# get column\u001b[0m\u001b[0;34m\u001b[0m\u001b[0;34m\u001b[0m\u001b[0m\n\u001b[1;32m   2003\u001b[0m         \u001b[0;32mif\u001b[0m \u001b[0mself\u001b[0m\u001b[0;34m.\u001b[0m\u001b[0mcolumns\u001b[0m\u001b[0;34m.\u001b[0m\u001b[0mis_unique\u001b[0m\u001b[0;34m:\u001b[0m\u001b[0;34m\u001b[0m\u001b[0m\n\u001b[0;32m-> 2004\u001b[0;31m             \u001b[0;32mreturn\u001b[0m \u001b[0mself\u001b[0m\u001b[0;34m.\u001b[0m\u001b[0m_get_item_cache\u001b[0m\u001b[0;34m(\u001b[0m\u001b[0mkey\u001b[0m\u001b[0;34m)\u001b[0m\u001b[0;34m\u001b[0m\u001b[0m\n\u001b[0m\u001b[1;32m   2005\u001b[0m \u001b[0;34m\u001b[0m\u001b[0m\n\u001b[1;32m   2006\u001b[0m         \u001b[0;31m# duplicate columns & possible reduce dimensionality\u001b[0m\u001b[0;34m\u001b[0m\u001b[0;34m\u001b[0m\u001b[0m\n",
      "\u001b[0;32m/Users/rgreasons/Desktop/p4k/pitchscrape/pitchscrape/lib/python3.5/site-packages/pandas/core/generic.py\u001b[0m in \u001b[0;36m_get_item_cache\u001b[0;34m(self, item)\u001b[0m\n\u001b[1;32m   1348\u001b[0m         \u001b[0mres\u001b[0m \u001b[0;34m=\u001b[0m \u001b[0mcache\u001b[0m\u001b[0;34m.\u001b[0m\u001b[0mget\u001b[0m\u001b[0;34m(\u001b[0m\u001b[0mitem\u001b[0m\u001b[0;34m)\u001b[0m\u001b[0;34m\u001b[0m\u001b[0m\n\u001b[1;32m   1349\u001b[0m         \u001b[0;32mif\u001b[0m \u001b[0mres\u001b[0m \u001b[0;32mis\u001b[0m \u001b[0;32mNone\u001b[0m\u001b[0;34m:\u001b[0m\u001b[0;34m\u001b[0m\u001b[0m\n\u001b[0;32m-> 1350\u001b[0;31m             \u001b[0mvalues\u001b[0m \u001b[0;34m=\u001b[0m \u001b[0mself\u001b[0m\u001b[0;34m.\u001b[0m\u001b[0m_data\u001b[0m\u001b[0;34m.\u001b[0m\u001b[0mget\u001b[0m\u001b[0;34m(\u001b[0m\u001b[0mitem\u001b[0m\u001b[0;34m)\u001b[0m\u001b[0;34m\u001b[0m\u001b[0m\n\u001b[0m\u001b[1;32m   1351\u001b[0m             \u001b[0mres\u001b[0m \u001b[0;34m=\u001b[0m \u001b[0mself\u001b[0m\u001b[0;34m.\u001b[0m\u001b[0m_box_item_values\u001b[0m\u001b[0;34m(\u001b[0m\u001b[0mitem\u001b[0m\u001b[0;34m,\u001b[0m \u001b[0mvalues\u001b[0m\u001b[0;34m)\u001b[0m\u001b[0;34m\u001b[0m\u001b[0m\n\u001b[1;32m   1352\u001b[0m             \u001b[0mcache\u001b[0m\u001b[0;34m[\u001b[0m\u001b[0mitem\u001b[0m\u001b[0;34m]\u001b[0m \u001b[0;34m=\u001b[0m \u001b[0mres\u001b[0m\u001b[0;34m\u001b[0m\u001b[0m\n",
      "\u001b[0;32m/Users/rgreasons/Desktop/p4k/pitchscrape/pitchscrape/lib/python3.5/site-packages/pandas/core/internals.py\u001b[0m in \u001b[0;36mget\u001b[0;34m(self, item, fastpath)\u001b[0m\n\u001b[1;32m   3288\u001b[0m \u001b[0;34m\u001b[0m\u001b[0m\n\u001b[1;32m   3289\u001b[0m             \u001b[0;32mif\u001b[0m \u001b[0;32mnot\u001b[0m \u001b[0misnull\u001b[0m\u001b[0;34m(\u001b[0m\u001b[0mitem\u001b[0m\u001b[0;34m)\u001b[0m\u001b[0;34m:\u001b[0m\u001b[0;34m\u001b[0m\u001b[0m\n\u001b[0;32m-> 3290\u001b[0;31m                 \u001b[0mloc\u001b[0m \u001b[0;34m=\u001b[0m \u001b[0mself\u001b[0m\u001b[0;34m.\u001b[0m\u001b[0mitems\u001b[0m\u001b[0;34m.\u001b[0m\u001b[0mget_loc\u001b[0m\u001b[0;34m(\u001b[0m\u001b[0mitem\u001b[0m\u001b[0;34m)\u001b[0m\u001b[0;34m\u001b[0m\u001b[0m\n\u001b[0m\u001b[1;32m   3291\u001b[0m             \u001b[0;32melse\u001b[0m\u001b[0;34m:\u001b[0m\u001b[0;34m\u001b[0m\u001b[0m\n\u001b[1;32m   3292\u001b[0m                 \u001b[0mindexer\u001b[0m \u001b[0;34m=\u001b[0m \u001b[0mnp\u001b[0m\u001b[0;34m.\u001b[0m\u001b[0marange\u001b[0m\u001b[0;34m(\u001b[0m\u001b[0mlen\u001b[0m\u001b[0;34m(\u001b[0m\u001b[0mself\u001b[0m\u001b[0;34m.\u001b[0m\u001b[0mitems\u001b[0m\u001b[0;34m)\u001b[0m\u001b[0;34m)\u001b[0m\u001b[0;34m[\u001b[0m\u001b[0misnull\u001b[0m\u001b[0;34m(\u001b[0m\u001b[0mself\u001b[0m\u001b[0;34m.\u001b[0m\u001b[0mitems\u001b[0m\u001b[0;34m)\u001b[0m\u001b[0;34m]\u001b[0m\u001b[0;34m\u001b[0m\u001b[0m\n",
      "\u001b[0;32m/Users/rgreasons/Desktop/p4k/pitchscrape/pitchscrape/lib/python3.5/site-packages/pandas/indexes/base.py\u001b[0m in \u001b[0;36mget_loc\u001b[0;34m(self, key, method, tolerance)\u001b[0m\n\u001b[1;32m   1945\u001b[0m                 \u001b[0;32mreturn\u001b[0m \u001b[0mself\u001b[0m\u001b[0;34m.\u001b[0m\u001b[0m_engine\u001b[0m\u001b[0;34m.\u001b[0m\u001b[0mget_loc\u001b[0m\u001b[0;34m(\u001b[0m\u001b[0mkey\u001b[0m\u001b[0;34m)\u001b[0m\u001b[0;34m\u001b[0m\u001b[0m\n\u001b[1;32m   1946\u001b[0m             \u001b[0;32mexcept\u001b[0m \u001b[0mKeyError\u001b[0m\u001b[0;34m:\u001b[0m\u001b[0;34m\u001b[0m\u001b[0m\n\u001b[0;32m-> 1947\u001b[0;31m                 \u001b[0;32mreturn\u001b[0m \u001b[0mself\u001b[0m\u001b[0;34m.\u001b[0m\u001b[0m_engine\u001b[0m\u001b[0;34m.\u001b[0m\u001b[0mget_loc\u001b[0m\u001b[0;34m(\u001b[0m\u001b[0mself\u001b[0m\u001b[0;34m.\u001b[0m\u001b[0m_maybe_cast_indexer\u001b[0m\u001b[0;34m(\u001b[0m\u001b[0mkey\u001b[0m\u001b[0;34m)\u001b[0m\u001b[0;34m)\u001b[0m\u001b[0;34m\u001b[0m\u001b[0m\n\u001b[0m\u001b[1;32m   1948\u001b[0m \u001b[0;34m\u001b[0m\u001b[0m\n\u001b[1;32m   1949\u001b[0m         \u001b[0mindexer\u001b[0m \u001b[0;34m=\u001b[0m \u001b[0mself\u001b[0m\u001b[0;34m.\u001b[0m\u001b[0mget_indexer\u001b[0m\u001b[0;34m(\u001b[0m\u001b[0;34m[\u001b[0m\u001b[0mkey\u001b[0m\u001b[0;34m]\u001b[0m\u001b[0;34m,\u001b[0m \u001b[0mmethod\u001b[0m\u001b[0;34m=\u001b[0m\u001b[0mmethod\u001b[0m\u001b[0;34m,\u001b[0m \u001b[0mtolerance\u001b[0m\u001b[0;34m=\u001b[0m\u001b[0mtolerance\u001b[0m\u001b[0;34m)\u001b[0m\u001b[0;34m\u001b[0m\u001b[0m\n",
      "\u001b[0;32mpandas/index.pyx\u001b[0m in \u001b[0;36mpandas.index.IndexEngine.get_loc (pandas/index.c:4154)\u001b[0;34m()\u001b[0m\n",
      "\u001b[0;32mpandas/index.pyx\u001b[0m in \u001b[0;36mpandas.index.IndexEngine.get_loc (pandas/index.c:4018)\u001b[0;34m()\u001b[0m\n",
      "\u001b[0;32mpandas/hashtable.pyx\u001b[0m in \u001b[0;36mpandas.hashtable.PyObjectHashTable.get_item (pandas/hashtable.c:12368)\u001b[0;34m()\u001b[0m\n",
      "\u001b[0;32mpandas/hashtable.pyx\u001b[0m in \u001b[0;36mpandas.hashtable.PyObjectHashTable.get_item (pandas/hashtable.c:12322)\u001b[0;34m()\u001b[0m\n",
      "\u001b[0;31mKeyError\u001b[0m: 21673"
     ]
    }
   ],
   "source": [
    "reviewDataFrame.set_index(reviewID)"
   ]
  },
  {
   "cell_type": "code",
   "execution_count": 482,
   "metadata": {
    "collapsed": false
   },
   "outputs": [
    {
     "ename": "KeyError",
     "evalue": "21673",
     "output_type": "error",
     "traceback": [
      "\u001b[0;31m---------------------------------------------------------------------------\u001b[0m",
      "\u001b[0;31mKeyError\u001b[0m                                  Traceback (most recent call last)",
      "\u001b[0;32m/Users/rgreasons/Desktop/p4k/pitchscrape/pitchscrape/lib/python3.5/site-packages/pandas/indexes/base.py\u001b[0m in \u001b[0;36mget_loc\u001b[0;34m(self, key, method, tolerance)\u001b[0m\n\u001b[1;32m   1944\u001b[0m             \u001b[0;32mtry\u001b[0m\u001b[0;34m:\u001b[0m\u001b[0;34m\u001b[0m\u001b[0m\n\u001b[0;32m-> 1945\u001b[0;31m                 \u001b[0;32mreturn\u001b[0m \u001b[0mself\u001b[0m\u001b[0;34m.\u001b[0m\u001b[0m_engine\u001b[0m\u001b[0;34m.\u001b[0m\u001b[0mget_loc\u001b[0m\u001b[0;34m(\u001b[0m\u001b[0mkey\u001b[0m\u001b[0;34m)\u001b[0m\u001b[0;34m\u001b[0m\u001b[0m\n\u001b[0m\u001b[1;32m   1946\u001b[0m             \u001b[0;32mexcept\u001b[0m \u001b[0mKeyError\u001b[0m\u001b[0;34m:\u001b[0m\u001b[0;34m\u001b[0m\u001b[0m\n",
      "\u001b[0;32mpandas/index.pyx\u001b[0m in \u001b[0;36mpandas.index.IndexEngine.get_loc (pandas/index.c:4154)\u001b[0;34m()\u001b[0m\n",
      "\u001b[0;32mpandas/index.pyx\u001b[0m in \u001b[0;36mpandas.index.IndexEngine.get_loc (pandas/index.c:4018)\u001b[0;34m()\u001b[0m\n",
      "\u001b[0;32mpandas/hashtable.pyx\u001b[0m in \u001b[0;36mpandas.hashtable.PyObjectHashTable.get_item (pandas/hashtable.c:12368)\u001b[0;34m()\u001b[0m\n",
      "\u001b[0;32mpandas/hashtable.pyx\u001b[0m in \u001b[0;36mpandas.hashtable.PyObjectHashTable.get_item (pandas/hashtable.c:12322)\u001b[0;34m()\u001b[0m\n",
      "\u001b[0;31mKeyError\u001b[0m: 21673",
      "\nDuring handling of the above exception, another exception occurred:\n",
      "\u001b[0;31mKeyError\u001b[0m                                  Traceback (most recent call last)",
      "\u001b[0;32m<ipython-input-482-b3b76a88c82c>\u001b[0m in \u001b[0;36m<module>\u001b[0;34m()\u001b[0m\n\u001b[0;32m----> 1\u001b[0;31m \u001b[0mindexFrame\u001b[0m \u001b[0;34m=\u001b[0m \u001b[0mindexFrame\u001b[0m\u001b[0;34m.\u001b[0m\u001b[0mset_index\u001b[0m\u001b[0;34m(\u001b[0m\u001b[0mreviewID\u001b[0m\u001b[0;34m)\u001b[0m\u001b[0;34m\u001b[0m\u001b[0m\n\u001b[0m",
      "\u001b[0;32m/Users/rgreasons/Desktop/p4k/pitchscrape/pitchscrape/lib/python3.5/site-packages/pandas/core/frame.py\u001b[0m in \u001b[0;36mset_index\u001b[0;34m(self, keys, drop, append, inplace, verify_integrity)\u001b[0m\n\u001b[1;32m   2835\u001b[0m                 \u001b[0mnames\u001b[0m\u001b[0;34m.\u001b[0m\u001b[0mappend\u001b[0m\u001b[0;34m(\u001b[0m\u001b[0;32mNone\u001b[0m\u001b[0;34m)\u001b[0m\u001b[0;34m\u001b[0m\u001b[0m\n\u001b[1;32m   2836\u001b[0m             \u001b[0;32melse\u001b[0m\u001b[0;34m:\u001b[0m\u001b[0;34m\u001b[0m\u001b[0m\n\u001b[0;32m-> 2837\u001b[0;31m                 \u001b[0mlevel\u001b[0m \u001b[0;34m=\u001b[0m \u001b[0mframe\u001b[0m\u001b[0;34m[\u001b[0m\u001b[0mcol\u001b[0m\u001b[0;34m]\u001b[0m\u001b[0;34m.\u001b[0m\u001b[0m_values\u001b[0m\u001b[0;34m\u001b[0m\u001b[0m\n\u001b[0m\u001b[1;32m   2838\u001b[0m                 \u001b[0mnames\u001b[0m\u001b[0;34m.\u001b[0m\u001b[0mappend\u001b[0m\u001b[0;34m(\u001b[0m\u001b[0mcol\u001b[0m\u001b[0;34m)\u001b[0m\u001b[0;34m\u001b[0m\u001b[0m\n\u001b[1;32m   2839\u001b[0m                 \u001b[0;32mif\u001b[0m \u001b[0mdrop\u001b[0m\u001b[0;34m:\u001b[0m\u001b[0;34m\u001b[0m\u001b[0m\n",
      "\u001b[0;32m/Users/rgreasons/Desktop/p4k/pitchscrape/pitchscrape/lib/python3.5/site-packages/pandas/core/frame.py\u001b[0m in \u001b[0;36m__getitem__\u001b[0;34m(self, key)\u001b[0m\n\u001b[1;32m   1995\u001b[0m             \u001b[0;32mreturn\u001b[0m \u001b[0mself\u001b[0m\u001b[0;34m.\u001b[0m\u001b[0m_getitem_multilevel\u001b[0m\u001b[0;34m(\u001b[0m\u001b[0mkey\u001b[0m\u001b[0;34m)\u001b[0m\u001b[0;34m\u001b[0m\u001b[0m\n\u001b[1;32m   1996\u001b[0m         \u001b[0;32melse\u001b[0m\u001b[0;34m:\u001b[0m\u001b[0;34m\u001b[0m\u001b[0m\n\u001b[0;32m-> 1997\u001b[0;31m             \u001b[0;32mreturn\u001b[0m \u001b[0mself\u001b[0m\u001b[0;34m.\u001b[0m\u001b[0m_getitem_column\u001b[0m\u001b[0;34m(\u001b[0m\u001b[0mkey\u001b[0m\u001b[0;34m)\u001b[0m\u001b[0;34m\u001b[0m\u001b[0m\n\u001b[0m\u001b[1;32m   1998\u001b[0m \u001b[0;34m\u001b[0m\u001b[0m\n\u001b[1;32m   1999\u001b[0m     \u001b[0;32mdef\u001b[0m \u001b[0m_getitem_column\u001b[0m\u001b[0;34m(\u001b[0m\u001b[0mself\u001b[0m\u001b[0;34m,\u001b[0m \u001b[0mkey\u001b[0m\u001b[0;34m)\u001b[0m\u001b[0;34m:\u001b[0m\u001b[0;34m\u001b[0m\u001b[0m\n",
      "\u001b[0;32m/Users/rgreasons/Desktop/p4k/pitchscrape/pitchscrape/lib/python3.5/site-packages/pandas/core/frame.py\u001b[0m in \u001b[0;36m_getitem_column\u001b[0;34m(self, key)\u001b[0m\n\u001b[1;32m   2002\u001b[0m         \u001b[0;31m# get column\u001b[0m\u001b[0;34m\u001b[0m\u001b[0;34m\u001b[0m\u001b[0m\n\u001b[1;32m   2003\u001b[0m         \u001b[0;32mif\u001b[0m \u001b[0mself\u001b[0m\u001b[0;34m.\u001b[0m\u001b[0mcolumns\u001b[0m\u001b[0;34m.\u001b[0m\u001b[0mis_unique\u001b[0m\u001b[0;34m:\u001b[0m\u001b[0;34m\u001b[0m\u001b[0m\n\u001b[0;32m-> 2004\u001b[0;31m             \u001b[0;32mreturn\u001b[0m \u001b[0mself\u001b[0m\u001b[0;34m.\u001b[0m\u001b[0m_get_item_cache\u001b[0m\u001b[0;34m(\u001b[0m\u001b[0mkey\u001b[0m\u001b[0;34m)\u001b[0m\u001b[0;34m\u001b[0m\u001b[0m\n\u001b[0m\u001b[1;32m   2005\u001b[0m \u001b[0;34m\u001b[0m\u001b[0m\n\u001b[1;32m   2006\u001b[0m         \u001b[0;31m# duplicate columns & possible reduce dimensionality\u001b[0m\u001b[0;34m\u001b[0m\u001b[0;34m\u001b[0m\u001b[0m\n",
      "\u001b[0;32m/Users/rgreasons/Desktop/p4k/pitchscrape/pitchscrape/lib/python3.5/site-packages/pandas/core/generic.py\u001b[0m in \u001b[0;36m_get_item_cache\u001b[0;34m(self, item)\u001b[0m\n\u001b[1;32m   1348\u001b[0m         \u001b[0mres\u001b[0m \u001b[0;34m=\u001b[0m \u001b[0mcache\u001b[0m\u001b[0;34m.\u001b[0m\u001b[0mget\u001b[0m\u001b[0;34m(\u001b[0m\u001b[0mitem\u001b[0m\u001b[0;34m)\u001b[0m\u001b[0;34m\u001b[0m\u001b[0m\n\u001b[1;32m   1349\u001b[0m         \u001b[0;32mif\u001b[0m \u001b[0mres\u001b[0m \u001b[0;32mis\u001b[0m \u001b[0;32mNone\u001b[0m\u001b[0;34m:\u001b[0m\u001b[0;34m\u001b[0m\u001b[0m\n\u001b[0;32m-> 1350\u001b[0;31m             \u001b[0mvalues\u001b[0m \u001b[0;34m=\u001b[0m \u001b[0mself\u001b[0m\u001b[0;34m.\u001b[0m\u001b[0m_data\u001b[0m\u001b[0;34m.\u001b[0m\u001b[0mget\u001b[0m\u001b[0;34m(\u001b[0m\u001b[0mitem\u001b[0m\u001b[0;34m)\u001b[0m\u001b[0;34m\u001b[0m\u001b[0m\n\u001b[0m\u001b[1;32m   1351\u001b[0m             \u001b[0mres\u001b[0m \u001b[0;34m=\u001b[0m \u001b[0mself\u001b[0m\u001b[0;34m.\u001b[0m\u001b[0m_box_item_values\u001b[0m\u001b[0;34m(\u001b[0m\u001b[0mitem\u001b[0m\u001b[0;34m,\u001b[0m \u001b[0mvalues\u001b[0m\u001b[0;34m)\u001b[0m\u001b[0;34m\u001b[0m\u001b[0m\n\u001b[1;32m   1352\u001b[0m             \u001b[0mcache\u001b[0m\u001b[0;34m[\u001b[0m\u001b[0mitem\u001b[0m\u001b[0;34m]\u001b[0m \u001b[0;34m=\u001b[0m \u001b[0mres\u001b[0m\u001b[0;34m\u001b[0m\u001b[0m\n",
      "\u001b[0;32m/Users/rgreasons/Desktop/p4k/pitchscrape/pitchscrape/lib/python3.5/site-packages/pandas/core/internals.py\u001b[0m in \u001b[0;36mget\u001b[0;34m(self, item, fastpath)\u001b[0m\n\u001b[1;32m   3288\u001b[0m \u001b[0;34m\u001b[0m\u001b[0m\n\u001b[1;32m   3289\u001b[0m             \u001b[0;32mif\u001b[0m \u001b[0;32mnot\u001b[0m \u001b[0misnull\u001b[0m\u001b[0;34m(\u001b[0m\u001b[0mitem\u001b[0m\u001b[0;34m)\u001b[0m\u001b[0;34m:\u001b[0m\u001b[0;34m\u001b[0m\u001b[0m\n\u001b[0;32m-> 3290\u001b[0;31m                 \u001b[0mloc\u001b[0m \u001b[0;34m=\u001b[0m \u001b[0mself\u001b[0m\u001b[0;34m.\u001b[0m\u001b[0mitems\u001b[0m\u001b[0;34m.\u001b[0m\u001b[0mget_loc\u001b[0m\u001b[0;34m(\u001b[0m\u001b[0mitem\u001b[0m\u001b[0;34m)\u001b[0m\u001b[0;34m\u001b[0m\u001b[0m\n\u001b[0m\u001b[1;32m   3291\u001b[0m             \u001b[0;32melse\u001b[0m\u001b[0;34m:\u001b[0m\u001b[0;34m\u001b[0m\u001b[0m\n\u001b[1;32m   3292\u001b[0m                 \u001b[0mindexer\u001b[0m \u001b[0;34m=\u001b[0m \u001b[0mnp\u001b[0m\u001b[0;34m.\u001b[0m\u001b[0marange\u001b[0m\u001b[0;34m(\u001b[0m\u001b[0mlen\u001b[0m\u001b[0;34m(\u001b[0m\u001b[0mself\u001b[0m\u001b[0;34m.\u001b[0m\u001b[0mitems\u001b[0m\u001b[0;34m)\u001b[0m\u001b[0;34m)\u001b[0m\u001b[0;34m[\u001b[0m\u001b[0misnull\u001b[0m\u001b[0;34m(\u001b[0m\u001b[0mself\u001b[0m\u001b[0;34m.\u001b[0m\u001b[0mitems\u001b[0m\u001b[0;34m)\u001b[0m\u001b[0;34m]\u001b[0m\u001b[0;34m\u001b[0m\u001b[0m\n",
      "\u001b[0;32m/Users/rgreasons/Desktop/p4k/pitchscrape/pitchscrape/lib/python3.5/site-packages/pandas/indexes/base.py\u001b[0m in \u001b[0;36mget_loc\u001b[0;34m(self, key, method, tolerance)\u001b[0m\n\u001b[1;32m   1945\u001b[0m                 \u001b[0;32mreturn\u001b[0m \u001b[0mself\u001b[0m\u001b[0;34m.\u001b[0m\u001b[0m_engine\u001b[0m\u001b[0;34m.\u001b[0m\u001b[0mget_loc\u001b[0m\u001b[0;34m(\u001b[0m\u001b[0mkey\u001b[0m\u001b[0;34m)\u001b[0m\u001b[0;34m\u001b[0m\u001b[0m\n\u001b[1;32m   1946\u001b[0m             \u001b[0;32mexcept\u001b[0m \u001b[0mKeyError\u001b[0m\u001b[0;34m:\u001b[0m\u001b[0;34m\u001b[0m\u001b[0m\n\u001b[0;32m-> 1947\u001b[0;31m                 \u001b[0;32mreturn\u001b[0m \u001b[0mself\u001b[0m\u001b[0;34m.\u001b[0m\u001b[0m_engine\u001b[0m\u001b[0;34m.\u001b[0m\u001b[0mget_loc\u001b[0m\u001b[0;34m(\u001b[0m\u001b[0mself\u001b[0m\u001b[0;34m.\u001b[0m\u001b[0m_maybe_cast_indexer\u001b[0m\u001b[0;34m(\u001b[0m\u001b[0mkey\u001b[0m\u001b[0;34m)\u001b[0m\u001b[0;34m)\u001b[0m\u001b[0;34m\u001b[0m\u001b[0m\n\u001b[0m\u001b[1;32m   1948\u001b[0m \u001b[0;34m\u001b[0m\u001b[0m\n\u001b[1;32m   1949\u001b[0m         \u001b[0mindexer\u001b[0m \u001b[0;34m=\u001b[0m \u001b[0mself\u001b[0m\u001b[0;34m.\u001b[0m\u001b[0mget_indexer\u001b[0m\u001b[0;34m(\u001b[0m\u001b[0;34m[\u001b[0m\u001b[0mkey\u001b[0m\u001b[0;34m]\u001b[0m\u001b[0;34m,\u001b[0m \u001b[0mmethod\u001b[0m\u001b[0;34m=\u001b[0m\u001b[0mmethod\u001b[0m\u001b[0;34m,\u001b[0m \u001b[0mtolerance\u001b[0m\u001b[0;34m=\u001b[0m\u001b[0mtolerance\u001b[0m\u001b[0;34m)\u001b[0m\u001b[0;34m\u001b[0m\u001b[0m\n",
      "\u001b[0;32mpandas/index.pyx\u001b[0m in \u001b[0;36mpandas.index.IndexEngine.get_loc (pandas/index.c:4154)\u001b[0;34m()\u001b[0m\n",
      "\u001b[0;32mpandas/index.pyx\u001b[0m in \u001b[0;36mpandas.index.IndexEngine.get_loc (pandas/index.c:4018)\u001b[0;34m()\u001b[0m\n",
      "\u001b[0;32mpandas/hashtable.pyx\u001b[0m in \u001b[0;36mpandas.hashtable.PyObjectHashTable.get_item (pandas/hashtable.c:12368)\u001b[0;34m()\u001b[0m\n",
      "\u001b[0;32mpandas/hashtable.pyx\u001b[0m in \u001b[0;36mpandas.hashtable.PyObjectHashTable.get_item (pandas/hashtable.c:12322)\u001b[0;34m()\u001b[0m\n",
      "\u001b[0;31mKeyError\u001b[0m: 21673"
     ]
    }
   ],
   "source": [
    "indexFrame = indexFrame.set_index(reviewID)"
   ]
  },
  {
   "cell_type": "code",
   "execution_count": 492,
   "metadata": {
    "collapsed": false
   },
   "outputs": [
    {
     "data": {
      "text/html": [
       "<div>\n",
       "<table border=\"1\" class=\"dataframe\">\n",
       "  <thead>\n",
       "    <tr style=\"text-align: right;\">\n",
       "      <th></th>\n",
       "      <th>albumArtLink</th>\n",
       "      <th>albumName</th>\n",
       "      <th>artistID</th>\n",
       "      <th>artistName</th>\n",
       "      <th>genreList</th>\n",
       "      <th>isBNM</th>\n",
       "      <th>isBNR</th>\n",
       "      <th>labelList</th>\n",
       "      <th>publishDate</th>\n",
       "      <th>retrievalTime</th>\n",
       "      <th>reviewContent</th>\n",
       "      <th>reviewLink</th>\n",
       "      <th>score</th>\n",
       "      <th>writer</th>\n",
       "    </tr>\n",
       "    <tr>\n",
       "      <th>reviewID</th>\n",
       "      <th></th>\n",
       "      <th></th>\n",
       "      <th></th>\n",
       "      <th></th>\n",
       "      <th></th>\n",
       "      <th></th>\n",
       "      <th></th>\n",
       "      <th></th>\n",
       "      <th></th>\n",
       "      <th></th>\n",
       "      <th></th>\n",
       "      <th></th>\n",
       "      <th></th>\n",
       "      <th></th>\n",
       "    </tr>\n",
       "  </thead>\n",
       "  <tbody>\n",
       "    <tr>\n",
       "      <th>21864</th>\n",
       "      <td>http://cdn.pitchfork.com/albums/23204/homepage...</td>\n",
       "      <td>Strangers</td>\n",
       "      <td>3108</td>\n",
       "      <td>Marissa Nadler</td>\n",
       "      <td>[Folk/Country]</td>\n",
       "      <td>0</td>\n",
       "      <td>0</td>\n",
       "      <td>[Sacred Bones]</td>\n",
       "      <td>2016-05-21</td>\n",
       "      <td>2016-06-04 14:16:39.627244</td>\n",
       "      <td>&lt;div class=\"contents dropcap\" data-reactid=\".1...</td>\n",
       "      <td>http://pitchfork.com/reviews/albums/21864-stra...</td>\n",
       "      <td>7.6</td>\n",
       "      <td>Marcus J. Moore</td>\n",
       "    </tr>\n",
       "    <tr>\n",
       "      <th>21673</th>\n",
       "      <td>http://cdn.pitchfork.com/albums/22996/homepage...</td>\n",
       "      <td>Teens of Denial</td>\n",
       "      <td>32785</td>\n",
       "      <td>Car Seat Headrest</td>\n",
       "      <td>[Rock]</td>\n",
       "      <td>1</td>\n",
       "      <td>0</td>\n",
       "      <td>[Matador]</td>\n",
       "      <td>2016-05-20</td>\n",
       "      <td>2016-06-04 16:42:51.568383</td>\n",
       "      <td>&lt;div class=\"contents dropcap\" data-reactid=\".7...</td>\n",
       "      <td>http://pitchfork.com/reviews/albums/21673-teen...</td>\n",
       "      <td>8.5</td>\n",
       "      <td>Jeremy Gordon</td>\n",
       "    </tr>\n",
       "  </tbody>\n",
       "</table>\n",
       "</div>"
      ],
      "text/plain": [
       "                                               albumArtLink        albumName  \\\n",
       "reviewID                                                                       \n",
       "21864     http://cdn.pitchfork.com/albums/23204/homepage...        Strangers   \n",
       "21673     http://cdn.pitchfork.com/albums/22996/homepage...  Teens of Denial   \n",
       "\n",
       "          artistID         artistName       genreList  isBNM  isBNR  \\\n",
       "reviewID                                                              \n",
       "21864         3108     Marissa Nadler  [Folk/Country]      0      0   \n",
       "21673        32785  Car Seat Headrest          [Rock]      1      0   \n",
       "\n",
       "               labelList publishDate              retrievalTime  \\\n",
       "reviewID                                                          \n",
       "21864     [Sacred Bones]  2016-05-21 2016-06-04 14:16:39.627244   \n",
       "21673          [Matador]  2016-05-20 2016-06-04 16:42:51.568383   \n",
       "\n",
       "                                              reviewContent  \\\n",
       "reviewID                                                      \n",
       "21864     <div class=\"contents dropcap\" data-reactid=\".1...   \n",
       "21673     <div class=\"contents dropcap\" data-reactid=\".7...   \n",
       "\n",
       "                                                 reviewLink  score  \\\n",
       "reviewID                                                             \n",
       "21864     http://pitchfork.com/reviews/albums/21864-stra...    7.6   \n",
       "21673     http://pitchfork.com/reviews/albums/21673-teen...    8.5   \n",
       "\n",
       "                   writer  \n",
       "reviewID                   \n",
       "21864     Marcus J. Moore  \n",
       "21673       Jeremy Gordon  "
      ]
     },
     "execution_count": 492,
     "metadata": {},
     "output_type": "execute_result"
    }
   ],
   "source": [
    "indexyFrame"
   ]
  },
  {
   "cell_type": "code",
   "execution_count": null,
   "metadata": {
    "collapsed": true
   },
   "outputs": [],
   "source": []
  }
 ],
 "metadata": {
  "kernelspec": {
   "display_name": "Python 3",
   "language": "python",
   "name": "python3"
  },
  "language_info": {
   "codemirror_mode": {
    "name": "ipython",
    "version": 3
   },
   "file_extension": ".py",
   "mimetype": "text/x-python",
   "name": "python",
   "nbconvert_exporter": "python",
   "pygments_lexer": "ipython3",
   "version": "3.5.1"
  }
 },
 "nbformat": 4,
 "nbformat_minor": 0
}
