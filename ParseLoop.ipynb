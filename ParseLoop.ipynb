{
 "cells": [
  {
   "cell_type": "code",
   "execution_count": 1,
   "metadata": {
    "collapsed": true
   },
   "outputs": [],
   "source": [
    "from bs4 import BeautifulSoup\n",
    "import requests"
   ]
  },
  {
   "cell_type": "code",
   "execution_count": 33,
   "metadata": {
    "collapsed": true
   },
   "outputs": [],
   "source": [
    "url = 'http://pitchfork.com/reviews/albums/?page='\n",
    "#url = 'http://pitchfork.com/reviews/albums/'\n",
    "#url = 'http://pitchfork.com/reviews/albums/21673-teens-of-denial/'\n",
    "ua ={'User-Agent': 'Mozilla/5.0 (Windows NT 6.1; WOW64; rv:20.0) Gecko/20100101 Firefox/20.0'}\n",
    "pageNumber = 1470"
   ]
  },
  {
   "cell_type": "code",
   "execution_count": 34,
   "metadata": {
    "collapsed": false
   },
   "outputs": [
    {
     "name": "stdout",
     "output_type": "stream",
     "text": [
      "http://pitchfork.com/reviews/albums/?page=1470\n"
     ]
    }
   ],
   "source": [
    "print(url + str(pageNumber))"
   ]
  },
  {
   "cell_type": "code",
   "execution_count": 35,
   "metadata": {
    "collapsed": false
   },
   "outputs": [
    {
     "name": "stdout",
     "output_type": "stream",
     "text": [
      "['http://www.pitchfork.com/reviews/albums/7339-axxess-and-ace/', 'http://www.pitchfork.com/reviews/albums/4850-up-a-tree/', 'http://www.pitchfork.com/reviews/albums/8598-singles-1989-1991/', 'http://www.pitchfork.com/reviews/albums/1608-fm-fantasma-remixes/', 'http://www.pitchfork.com/reviews/albums/1610-cm-cornelius-mix/', 'http://www.pitchfork.com/reviews/albums/4324-rehearsals-for-departure/', 'http://www.pitchfork.com/reviews/albums/7449-budakhan-mindphone-ep/', 'http://www.pitchfork.com/reviews/albums/1514-clinic/', 'http://www.pitchfork.com/reviews/albums/8677-summer-teeth/', 'http://www.pitchfork.com/reviews/albums/7051-the-sebadoh/', 'http://www.pitchfork.com/reviews/albums/6435-new-world-record/', 'http://www.pitchfork.com/reviews/albums/1014-keep-it-like-a-secret/']\n",
      "<Response [200]>\n",
      "['http://www.pitchfork.com/reviews/albums/7460-fell-in-love-at-22-ep/', 'http://www.pitchfork.com/reviews/albums/2965-can-you-still-feel/', 'http://www.pitchfork.com/reviews/albums/7981-burning-blue-soul/', 'http://www.pitchfork.com/reviews/albums/8835-apple-venus-volume-one/', 'http://www.pitchfork.com/reviews/albums/6138-a/', 'http://www.pitchfork.com/reviews/albums/1242-califone/', 'http://www.pitchfork.com/reviews/albums/1023-mission-control/', 'http://www.pitchfork.com/reviews/albums/287-all-in/', 'http://www.pitchfork.com/reviews/albums/3741-trad-arr-jones/', 'http://www.pitchfork.com/reviews/albums/6455-sam-prekop/', 'http://www.pitchfork.com/reviews/albums/361-peel-session/', 'http://www.pitchfork.com/reviews/albums/6372-cd-2/']\n",
      "<Response [200]>\n",
      "['http://www.pitchfork.com/reviews/albums/1535-let-us-replay/', 'http://www.pitchfork.com/reviews/albums/1341-1999/', 'http://www.pitchfork.com/reviews/albums/5376-out-of-tune/', 'http://www.pitchfork.com/reviews/albums/2413-singles-breaking-up-volume-one/', 'http://www.pitchfork.com/reviews/albums/3723-left-for-dead-in-malaysia/']\n",
      "<Response [404]>\n"
     ]
    }
   ],
   "source": [
    "reviewPageResponse = requests.get((url + str(pageNumber)), headers=ua)\n",
    "masterReviewList = []\n",
    "while reviewPageResponse.status_code == 200:\n",
    "    reviewListSoup = BeautifulSoup(reviewPageResponse.text, \"html.parser\")\n",
    "    reviewList = reviewListSoup.find_all(class_=\"album-link\")\n",
    "    reviewLinkList = [\"http://www.pitchfork.com\" + l['href'] for l in reviewList]\n",
    "    print(reviewLinkList)\n",
    "    pageNumber = pageNumber + 1\n",
    "    reviewPageResponse = requests.get((url + str(pageNumber)), headers=ua)\n",
    "    print(reviewPageResponse)\n",
    "\n",
    "#r = requests.get(url, headers=ua)\n",
    "#retrievalTime = datetime.now()\n",
    "#print(r.status_code)"
   ]
  },
  {
   "cell_type": "code",
   "execution_count": null,
   "metadata": {
    "collapsed": true
   },
   "outputs": [],
   "source": []
  }
 ],
 "metadata": {
  "kernelspec": {
   "display_name": "Python 3",
   "language": "python",
   "name": "python3"
  },
  "language_info": {
   "codemirror_mode": {
    "name": "ipython",
    "version": 3
   },
   "file_extension": ".py",
   "mimetype": "text/x-python",
   "name": "python",
   "nbconvert_exporter": "python",
   "pygments_lexer": "ipython3",
   "version": "3.5.1"
  }
 },
 "nbformat": 4,
 "nbformat_minor": 0
}
